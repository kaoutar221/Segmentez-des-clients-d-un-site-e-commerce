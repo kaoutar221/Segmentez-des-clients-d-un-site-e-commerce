{
 "cells": [
  {
   "cell_type": "markdown",
   "id": "511fbe12",
   "metadata": {},
   "source": [
    "Noteboook de maintenance"
   ]
  },
  {
   "cell_type": "markdown",
   "id": "2d92f06b",
   "metadata": {},
   "source": [
    "# Import des bib"
   ]
  },
  {
   "cell_type": "code",
   "execution_count": 227,
   "id": "e5af5a55",
   "metadata": {
    "ExecuteTime": {
     "end_time": "2024-03-17T00:51:45.655234Z",
     "start_time": "2024-03-17T00:51:45.629834Z"
    }
   },
   "outputs": [],
   "source": [
    "import pandas as pd\n",
    "import numpy as np\n",
    "import matplotlib.pyplot as plt\n",
    "from datetime import datetime, timedelta\n",
    "from sklearn.metrics.cluster import adjusted_rand_score\n",
    "from sklearn.preprocessing import StandardScaler\n",
    "from sklearn.cluster import KMeans"
   ]
  },
  {
   "cell_type": "markdown",
   "id": "703c51d6",
   "metadata": {},
   "source": [
    "# import des données"
   ]
  },
  {
   "cell_type": "code",
   "execution_count": 228,
   "id": "bffdb126",
   "metadata": {
    "ExecuteTime": {
     "end_time": "2024-03-17T00:51:52.894970Z",
     "start_time": "2024-03-17T00:51:45.683143Z"
    }
   },
   "outputs": [],
   "source": [
    "data=pd.read_csv('Dataframe1.csv')"
   ]
  },
  {
   "cell_type": "code",
   "execution_count": 229,
   "id": "16ecaa86",
   "metadata": {
    "ExecuteTime": {
     "end_time": "2024-03-17T00:51:53.201851Z",
     "start_time": "2024-03-17T00:51:52.911627Z"
    }
   },
   "outputs": [],
   "source": [
    "data=data.drop(['index','index.1','customer_id.1','index.2','order_id.1','index.3','order_id.2',\n",
    "                'index.4','order_id.3','index.5','product_id.1','index.6', 'product_category_name.1'],axis=1).reset_index()"
   ]
  },
  {
   "cell_type": "code",
   "execution_count": 230,
   "id": "83dd54c8",
   "metadata": {
    "ExecuteTime": {
     "end_time": "2024-03-17T00:51:53.361562Z",
     "start_time": "2024-03-17T00:51:53.208884Z"
    }
   },
   "outputs": [],
   "source": [
    "data= data.drop(['order_approved_at', 'order_delivered_carrier_date',\n",
    "       'order_delivered_customer_date', 'order_estimated_delivery_date','product_name_lenght',\n",
    "       'product_description_lenght', 'product_photos_qty', 'product_weight_g',\n",
    "       'product_length_cm', 'product_height_cm', 'product_width_cm','review_comment_title', 'review_comment_message',\n",
    "       'review_creation_date', 'review_answer_timestamp','customer_id','product_id','order_item_id','seller_id','review_id',],axis=1)"
   ]
  },
  {
   "cell_type": "code",
   "execution_count": 231,
   "id": "ac2fc3ce",
   "metadata": {
    "ExecuteTime": {
     "end_time": "2024-03-17T00:51:53.798910Z",
     "start_time": "2024-03-17T00:51:53.374077Z"
    }
   },
   "outputs": [],
   "source": [
    "data=data.dropna()"
   ]
  },
  {
   "cell_type": "code",
   "execution_count": 232,
   "id": "9af3e36f",
   "metadata": {
    "ExecuteTime": {
     "end_time": "2024-03-17T00:51:54.272181Z",
     "start_time": "2024-03-17T00:51:53.804960Z"
    }
   },
   "outputs": [
    {
     "name": "stdout",
     "output_type": "stream",
     "text": [
      "<class 'pandas.core.frame.DataFrame'>\n",
      "Int64Index: 96490 entries, 0 to 99439\n",
      "Data columns (total 18 columns):\n",
      " #   Column                         Non-Null Count  Dtype  \n",
      "---  ------                         --------------  -----  \n",
      " 0   index                          96490 non-null  int64  \n",
      " 1   customer_unique_id             96490 non-null  object \n",
      " 2   customer_zip_code_prefix       96490 non-null  int64  \n",
      " 3   customer_city                  96490 non-null  object \n",
      " 4   customer_state                 96490 non-null  object \n",
      " 5   order_id                       96490 non-null  object \n",
      " 6   order_status                   96490 non-null  object \n",
      " 7   order_purchase_timestamp       96490 non-null  object \n",
      " 8   shipping_limit_date            96490 non-null  object \n",
      " 9   price                          96490 non-null  float64\n",
      " 10  freight_value                  96490 non-null  float64\n",
      " 11  payment_sequential             96490 non-null  float64\n",
      " 12  payment_type                   96490 non-null  object \n",
      " 13  payment_installments           96490 non-null  float64\n",
      " 14  payment_value                  96490 non-null  float64\n",
      " 15  review_score                   96490 non-null  float64\n",
      " 16  product_category_name          96490 non-null  object \n",
      " 17  product_category_name_english  96490 non-null  object \n",
      "dtypes: float64(6), int64(2), object(10)\n",
      "memory usage: 14.0+ MB\n"
     ]
    }
   ],
   "source": [
    "data.info()"
   ]
  },
  {
   "cell_type": "markdown",
   "id": "80c4afce",
   "metadata": {},
   "source": [
    "# Calcul de RFM"
   ]
  },
  {
   "cell_type": "code",
   "execution_count": 233,
   "id": "8633a525",
   "metadata": {
    "ExecuteTime": {
     "end_time": "2024-03-17T00:51:54.301533Z",
     "start_time": "2024-03-17T00:51:54.278465Z"
    }
   },
   "outputs": [],
   "source": [
    "def calculate_rfm(data, reference_date):\n",
    "    # Convertir la colonne 'order_purchase_timestamp' en format datetime si ce n'est pas déjà fait\n",
    "    if 'order_purchase_timestamp' in data.columns:\n",
    "        data['order_purchase_timestamp'] = pd.to_datetime(data['order_purchase_timestamp'])\n",
    "    data_before_reference = data[data['order_purchase_timestamp'] < reference_date]\n",
    "    # Calculer la récence pour chaque client\n",
    "    recency = (data_before_reference.groupby(by='customer_unique_id')['order_purchase_timestamp'].max().pipe(lambda x: (data_before_reference['order_purchase_timestamp'].max() - x).dt.days))\n",
    "    # Calculer le nombre d'achats (fréquence) pour chaque client\n",
    "    frequency = data_before_reference.groupby('customer_unique_id')['order_purchase_timestamp'].count()\n",
    "\n",
    "    # Calculer le montant total dépensé (monetary) par chaque client\n",
    "    monetary = data_before_reference.groupby('customer_unique_id')['payment_value'].sum()\n",
    "\n",
    "    rfm = pd.DataFrame({'Recency': recency, 'Frequency': frequency, 'Monetary': monetary})\n",
    "    return rfm"
   ]
  },
  {
   "cell_type": "code",
   "execution_count": 234,
   "id": "39ddfab4",
   "metadata": {
    "ExecuteTime": {
     "end_time": "2024-03-17T00:51:55.007069Z",
     "start_time": "2024-03-17T00:51:54.310206Z"
    }
   },
   "outputs": [],
   "source": [
    "#rfm0 = calculate_rfm(data)\n",
    "rfm1 = calculate_rfm(data, datetime(2018, 1, 14))"
   ]
  },
  {
   "cell_type": "code",
   "execution_count": 235,
   "id": "741ff220",
   "metadata": {
    "ExecuteTime": {
     "end_time": "2024-03-17T00:51:55.130516Z",
     "start_time": "2024-03-17T00:51:55.021113Z"
    }
   },
   "outputs": [
    {
     "data": {
      "text/html": [
       "<div>\n",
       "<style scoped>\n",
       "    .dataframe tbody tr th:only-of-type {\n",
       "        vertical-align: middle;\n",
       "    }\n",
       "\n",
       "    .dataframe tbody tr th {\n",
       "        vertical-align: top;\n",
       "    }\n",
       "\n",
       "    .dataframe thead th {\n",
       "        text-align: right;\n",
       "    }\n",
       "</style>\n",
       "<table border=\"1\" class=\"dataframe\">\n",
       "  <thead>\n",
       "    <tr style=\"text-align: right;\">\n",
       "      <th></th>\n",
       "      <th>Recency</th>\n",
       "      <th>Frequency</th>\n",
       "      <th>Monetary</th>\n",
       "    </tr>\n",
       "    <tr>\n",
       "      <th>customer_unique_id</th>\n",
       "      <th></th>\n",
       "      <th></th>\n",
       "      <th></th>\n",
       "    </tr>\n",
       "  </thead>\n",
       "  <tbody>\n",
       "    <tr>\n",
       "      <th>0000f46a3911fa3c0805444483337064</th>\n",
       "      <td>309</td>\n",
       "      <td>1</td>\n",
       "      <td>86.22</td>\n",
       "    </tr>\n",
       "    <tr>\n",
       "      <th>0000f6ccb0745a6a4b88665a16c9f078</th>\n",
       "      <td>93</td>\n",
       "      <td>1</td>\n",
       "      <td>43.62</td>\n",
       "    </tr>\n",
       "    <tr>\n",
       "      <th>0004aac84e0df4da2b147fca70cf8255</th>\n",
       "      <td>60</td>\n",
       "      <td>1</td>\n",
       "      <td>196.89</td>\n",
       "    </tr>\n",
       "    <tr>\n",
       "      <th>0005e1862207bf6ccc02e4228effd9a0</th>\n",
       "      <td>315</td>\n",
       "      <td>1</td>\n",
       "      <td>150.12</td>\n",
       "    </tr>\n",
       "    <tr>\n",
       "      <th>0006fdc98a402fceb4eb0ee528f6a8d4</th>\n",
       "      <td>179</td>\n",
       "      <td>1</td>\n",
       "      <td>29.00</td>\n",
       "    </tr>\n",
       "    <tr>\n",
       "      <th>...</th>\n",
       "      <td>...</td>\n",
       "      <td>...</td>\n",
       "      <td>...</td>\n",
       "    </tr>\n",
       "    <tr>\n",
       "      <th>fffb09418989a0dbff854a28163e47c6</th>\n",
       "      <td>27</td>\n",
       "      <td>1</td>\n",
       "      <td>73.16</td>\n",
       "    </tr>\n",
       "    <tr>\n",
       "      <th>fffcf5a5ff07b0908bd4e2dbc735a684</th>\n",
       "      <td>219</td>\n",
       "      <td>1</td>\n",
       "      <td>2067.42</td>\n",
       "    </tr>\n",
       "    <tr>\n",
       "      <th>fffea47cd6d3cc0a88bd621562a9d061</th>\n",
       "      <td>34</td>\n",
       "      <td>1</td>\n",
       "      <td>84.58</td>\n",
       "    </tr>\n",
       "    <tr>\n",
       "      <th>ffff371b4d645b6ecea244b27531430a</th>\n",
       "      <td>340</td>\n",
       "      <td>1</td>\n",
       "      <td>112.46</td>\n",
       "    </tr>\n",
       "    <tr>\n",
       "      <th>ffffd2657e2aad2907e67c3e9daecbeb</th>\n",
       "      <td>256</td>\n",
       "      <td>1</td>\n",
       "      <td>71.56</td>\n",
       "    </tr>\n",
       "  </tbody>\n",
       "</table>\n",
       "<p>45139 rows × 3 columns</p>\n",
       "</div>"
      ],
      "text/plain": [
       "                                  Recency  Frequency  Monetary\n",
       "customer_unique_id                                            \n",
       "0000f46a3911fa3c0805444483337064      309          1     86.22\n",
       "0000f6ccb0745a6a4b88665a16c9f078       93          1     43.62\n",
       "0004aac84e0df4da2b147fca70cf8255       60          1    196.89\n",
       "0005e1862207bf6ccc02e4228effd9a0      315          1    150.12\n",
       "0006fdc98a402fceb4eb0ee528f6a8d4      179          1     29.00\n",
       "...                                   ...        ...       ...\n",
       "fffb09418989a0dbff854a28163e47c6       27          1     73.16\n",
       "fffcf5a5ff07b0908bd4e2dbc735a684      219          1   2067.42\n",
       "fffea47cd6d3cc0a88bd621562a9d061       34          1     84.58\n",
       "ffff371b4d645b6ecea244b27531430a      340          1    112.46\n",
       "ffffd2657e2aad2907e67c3e9daecbeb      256          1     71.56\n",
       "\n",
       "[45139 rows x 3 columns]"
      ]
     },
     "execution_count": 235,
     "metadata": {},
     "output_type": "execute_result"
    }
   ],
   "source": [
    "rfm1"
   ]
  },
  {
   "cell_type": "code",
   "execution_count": 236,
   "id": "9dc4012e",
   "metadata": {
    "ExecuteTime": {
     "end_time": "2024-03-17T00:51:55.174487Z",
     "start_time": "2024-03-17T00:51:55.139528Z"
    }
   },
   "outputs": [],
   "source": [
    "def calculate_scaler_and_kmeans(rfm_data):\n",
    "    # StandardScaler sur les données RFM\n",
    "    scaler = StandardScaler()\n",
    "    rfm_scaled = scaler.fit_transform(rfm_data)\n",
    "    # Utilisation de KMeans pour trouver les clusters\n",
    "    kmeans = KMeans(n_clusters=4, random_state=42) \n",
    "    kmeans.fit(rfm_scaled)\n",
    "    return scaler, kmeans"
   ]
  },
  {
   "cell_type": "code",
   "execution_count": 237,
   "id": "896dc723",
   "metadata": {
    "ExecuteTime": {
     "end_time": "2024-03-17T00:51:55.211697Z",
     "start_time": "2024-03-17T00:51:55.194539Z"
    }
   },
   "outputs": [
    {
     "name": "stdout",
     "output_type": "stream",
     "text": [
      "Dernier date 2018-09-03 09:06:57\n",
      "Premier date 2016-09-04 21:15:19\n"
     ]
    }
   ],
   "source": [
    "print(\"Dernier date\", data.order_purchase_timestamp.max())\n",
    "print(\"Premier date\", data.order_purchase_timestamp.min())"
   ]
  },
  {
   "cell_type": "markdown",
   "id": "40bc0b21",
   "metadata": {},
   "source": [
    "# Calcul de ARI"
   ]
  },
  {
   "cell_type": "code",
   "execution_count": 238,
   "id": "a27ac375",
   "metadata": {
    "ExecuteTime": {
     "end_time": "2024-03-17T00:52:13.750332Z",
     "start_time": "2024-03-17T00:51:55.218148Z"
    }
   },
   "outputs": [
    {
     "name": "stdout",
     "output_type": "stream",
     "text": [
      "2018-01-01    1.000000\n",
      "2018-01-15    0.952001\n",
      "2018-01-29    0.909421\n",
      "2018-02-12    0.863895\n",
      "2018-02-26    0.797921\n",
      "2018-03-12    0.766580\n",
      "2018-03-26    0.726289\n",
      "2018-04-09    0.700916\n",
      "2018-04-23    0.654939\n",
      "2018-05-07    0.531167\n",
      "2018-05-21    0.483137\n",
      "2018-06-04    0.508096\n",
      "2018-06-18    0.424684\n",
      "2018-07-02    0.373206\n",
      "2018-07-16    0.329044\n",
      "2018-07-30    0.303881\n",
      "2018-08-13    0.401170\n",
      "2018-08-27    0.381310\n",
      "dtype: float64\n"
     ]
    }
   ],
   "source": [
    "def calculate_ari_over_time(data):\n",
    "    # Initialisation des variables pour stocker les résultats\n",
    "    ari_values = []\n",
    "    dates = []\n",
    "\n",
    "    # Calculer le RFM initial\n",
    "    end_date =  datetime(2018, 1, 1) \n",
    "    rfm0 = calculate_rfm(data, end_date)\n",
    "    scaler0, kmeans0 = calculate_scaler_and_kmeans(rfm0)\n",
    "\n",
    "    # Calculer l'ARI pour chaque intervalle de 15 jours\n",
    "    interval = timedelta(days=14)\n",
    "    #end_date =  datetime(2017, 11, 17) \n",
    "\n",
    "    while end_date <= data['order_purchase_timestamp'].max():\n",
    "        # Calculer RFM pour cet intervalle\n",
    "        rfm = calculate_rfm(data, end_date)\n",
    "        \n",
    "        # Appliquer StandardScaler0 sur rfm\n",
    "        rfm_scaled_0 = scaler0.transform(rfm)\n",
    "        \n",
    "        # Prédire les clusters de rfm en utilisant les centroids de KMeans0\n",
    "        L0 = kmeans0.predict(rfm_scaled_0)\n",
    "        \n",
    "        # Calculer StandardScaler et KMeans pour rfm\n",
    "        scaler, kmeans = calculate_scaler_and_kmeans(rfm)\n",
    "        \n",
    "        # Appliquer StandardScaler sur rfm\n",
    "        rfm_scaled = scaler.transform(rfm)\n",
    "        \n",
    "        # Prédire les clusters de rfm en utilisant les centroids de KMeans\n",
    "        L1 = kmeans.predict(rfm_scaled)\n",
    "        \n",
    "        # Calculer l'Adjusted Rand Index (ARI) entre L10 et L11\n",
    "        ari = adjusted_rand_score(L0, L1)\n",
    "        \n",
    "        # Stocker les résultats\n",
    "        ari_values.append(ari)\n",
    "        dates.append(end_date)\n",
    "        \n",
    "        # Mettre à jour la date de fin pour le prochain intervalle\n",
    "        end_date += interval\n",
    "\n",
    "    # Créer une série temporelle des valeurs ARI\n",
    "    ari_series = pd.Series(ari_values, index=dates)\n",
    "    \n",
    "    return ari_series\n",
    "\n",
    "# Appeler la fonction pour calculer l'ARI sur chaque intervalle de 15 jours\n",
    "ari_over_time = calculate_ari_over_time(data)\n",
    "\n",
    "# Afficher les résultats\n",
    "print(ari_over_time)"
   ]
  },
  {
   "cell_type": "markdown",
   "id": "6124caef",
   "metadata": {},
   "source": [
    "# Graphe"
   ]
  },
  {
   "cell_type": "code",
   "execution_count": 241,
   "id": "654fcb40",
   "metadata": {
    "ExecuteTime": {
     "end_time": "2024-03-17T00:53:34.378797Z",
     "start_time": "2024-03-17T00:53:17.997123Z"
    }
   },
   "outputs": [
    {
     "data": {
      "image/png": "[encoded data removed]",
      "text/plain": [
       "<Figure size 1000x600 with 1 Axes>"
      ]
     },
     "metadata": {},
     "output_type": "display_data"
    }
   ],
   "source": [
    "ari_over_time = calculate_ari_over_time(data)\n",
    "\n",
    "# Tracer le graphique de l'ARI en fonction du temps avec un pas de 0.3 dans l'axe y\n",
    "plt.figure(figsize=(10, 6))\n",
    "plt.plot(ari_over_time.index, ari_over_time.values, marker='o', linestyle='-')\n",
    "plt.title(\"Adjusted Rand Index (ARI) en fonction du temps\")\n",
    "plt.xlabel(\"Date\")\n",
    "plt.ylabel(\"ARI\")\n",
    "plt.grid(True)\n",
    "plt.xticks(rotation=45)\n",
    "plt.yticks(np.arange(0, max(ari_over_time) + 0.2, 0.2))  \n",
    "plt.tight_layout()\n",
    "plt.show()"
   ]
  },
  {
   "cell_type": "markdown",
   "id": "2e2d8fd3",
   "metadata": {},
   "source": [
    "Une observation significative est la stabilité du score ARI pendant les deux premiers mois, suivie d'une diminution. Cela suggère que la maintenance devrait être effectuée tous les deux mois."
   ]
  },
  {
   "cell_type": "code",
   "execution_count": 239,
   "id": "a517c332",
   "metadata": {
    "ExecuteTime": {
     "end_time": "2024-03-17T00:52:37.852878Z",
     "start_time": "2024-03-17T00:52:13.764211Z"
    }
   },
   "outputs": [
    {
     "data": {
      "image/png": "[encoded data removed]",
      "text/plain": [
       "<Figure size 800x400 with 1 Axes>"
      ]
     },
     "metadata": {},
     "output_type": "display_data"
    }
   ],
   "source": [
    "def smooth_data(data, window_size):\n",
    "    return data.rolling(window=window_size).mean()\n",
    "\n",
    "# Fonction pour tracer l'ARI lissé avec des périodes de stabilité entre 0.7 et 0.9\n",
    "def plot_smoothed_ari_with_stability(data, stability_range, window_size):\n",
    "    # Calculer l'ARI lissé\n",
    "    ari_over_time = calculate_ari_over_time(data)\n",
    "    smoothed_ari = smooth_data(ari_over_time, window_size)\n",
    "    \n",
    "    # Tracer le graphique de l'ARI lissé\n",
    "    plt.figure(figsize=(8, 4))\n",
    "    plt.plot(smoothed_ari.index, smoothed_ari.values, color='blue', linestyle='-', marker='o', label='ARI lissé')\n",
    "    \n",
    "    # Tracer une ligne horizontale pour la plage de stabilité\n",
    "    plt.axhline(y=stability_range[0], color='green', linestyle='--', label='Stabilité (0.7 - 0.9)')\n",
    "    plt.axhline(y=stability_range[1], color='green', linestyle='--')\n",
    "    \n",
    "    # Marquer les périodes de stabilité dans la plage spécifiée\n",
    "    stable_periods = smoothed_ari[(smoothed_ari >= stability_range[0]) & (smoothed_ari <= stability_range[1])]\n",
    "    plt.scatter(stable_periods.index, stable_periods.values, color='red', label='Stable (0.7 - 0.9)')\n",
    "    \n",
    "    plt.title(\"Adjusted Rand Index (ARI)\")\n",
    "    plt.xlabel(\"Date\")\n",
    "    plt.ylabel(\"ARI\")\n",
    "    plt.legend()\n",
    "    plt.grid(True)\n",
    "    plt.xticks(rotation=45)\n",
    "    plt.tight_layout()\n",
    "    plt.show()\n",
    "\n",
    "# Paramètres\n",
    "stability_range = (0.7, 1)  # Plage de stabilité entre 0.7 et 0.9\n",
    "window_size = 5  # Taille de la fenêtre pour le lissage\n",
    "\n",
    "# Appeler la fonction pour tracer l'ARI lissé avec des périodes de stabilité\n",
    "plot_smoothed_ari_with_stability(data, stability_range, window_size)"
   ]
  }
 ],
 "metadata": {
  "hide_input": false,
  "kernelspec": {
   "display_name": "Python 3 (ipykernel)",
   "language": "python",
   "name": "python3"
  },
  "language_info": {
   "codemirror_mode": {
    "name": "ipython",
    "version": 3
   },
   "file_extension": ".py",
   "mimetype": "text/x-python",
   "name": "python",
   "nbconvert_exporter": "python",
   "pygments_lexer": "ipython3",
   "version": "3.11.4"
  },
  "nbTranslate": {
   "displayLangs": [
    "*"
   ],
   "hotkey": "alt-t",
   "langInMainMenu": true,
   "sourceLang": "en",
   "targetLang": "fr",
   "useGoogleTranslate": true
  },
  "toc": {
   "base_numbering": 1,
   "nav_menu": {},
   "number_sections": true,
   "sideBar": true,
   "skip_h1_title": false,
   "title_cell": "Table of Contents",
   "title_sidebar": "Contents",
   "toc_cell": false,
   "toc_position": {},
   "toc_section_display": true,
   "toc_window_display": false
  },
  "varInspector": {
   "cols": {
    "lenName": 16,
    "lenType": 16,
    "lenVar": 40
   },
   "kernels_config": {
    "python": {
     "delete_cmd_postfix": "",
     "delete_cmd_prefix": "del ",
     "library": "var_list.py",
     "varRefreshCmd": "print(var_dic_list())"
    },
    "r": {
     "delete_cmd_postfix": ") ",
     "delete_cmd_prefix": "rm(",
     "library": "var_list.r",
     "varRefreshCmd": "cat(var_dic_list()) "
    }
   },
   "types_to_exclude": [
    "module",
    "function",
    "builtin_function_or_method",
    "instance",
    "_Feature"
   ],
   "window_display": false
  }
 },
 "nbformat": 4,
 "nbformat_minor": 5
}
